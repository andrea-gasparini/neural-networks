{
 "cells": [
  {
   "cell_type": "code",
   "execution_count": 1,
   "metadata": {},
   "outputs": [],
   "source": [
    "from perceptron import Perceptron\n",
    "import numpy as np\n",
    "import matplotlib.pyplot as plt\n",
    "from data_generator import DataGenerator"
   ]
  },
  {
   "cell_type": "code",
   "execution_count": 2,
   "metadata": {},
   "outputs": [],
   "source": [
    "N = 20\n",
    "nd = 200\n",
    "nmax = 100\n",
    "\n",
    "generator = DataGenerator(N)\n",
    "\n",
    "alpha_range = np.arange(0.75, 4.0001, 0.1)\n",
    "success_runs = np.zeros(len(alpha_range))\n",
    "\n",
    "for i, alpha in enumerate(alpha_range):\n",
    "    P = int(alpha * N)\n",
    "\n",
    "    success_sum = 0\n",
    "    for _ in range(nd):\n",
    "        perceptron = Perceptron(N)\n",
    "        X, Y = generator.generate(P)\n",
    "        if perceptron.train(X, Y, nmax):\n",
    "            success_sum += 1\n",
    "\n",
    "    success_runs[i] = float(success_sum) / float(nd)"
   ]
  },
  {
   "cell_type": "code",
   "execution_count": 3,
   "metadata": {},
   "outputs": [
    {
     "data": {
      "text/plain": [
       "[<matplotlib.lines.Line2D at 0x7f70f1d96590>]"
      ]
     },
     "execution_count": 3,
     "metadata": {},
     "output_type": "execute_result"
    },
    {
     "data": {
      "image/png": "[encoded data removed]",
      "text/plain": [
       "<Figure size 432x288 with 1 Axes>"
      ]
     },
     "metadata": {
      "needs_background": "light"
     },
     "output_type": "display_data"
    }
   ],
   "source": [
    "plt.plot(alpha_range, success_runs)"
   ]
  }
 ],
 "metadata": {
  "interpreter": {
   "hash": "aee8b7b246df8f9039afb4144a1f6fd8d2ca17a180786b69acc140d282b71a49"
  },
  "kernelspec": {
   "display_name": "Python 3 (ipykernel)",
   "language": "python",
   "name": "python3"
  },
  "language_info": {
   "codemirror_mode": {
    "name": "ipython",
    "version": 3
   },
   "file_extension": ".py",
   "mimetype": "text/x-python",
   "name": "python",
   "nbconvert_exporter": "python",
   "pygments_lexer": "ipython3",
   "version": "3.10.0"
  }
 },
 "nbformat": 4,
 "nbformat_minor": 2
}
