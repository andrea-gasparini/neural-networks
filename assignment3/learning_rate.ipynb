{
 "cells": [
  {
   "cell_type": "code",
   "execution_count": 16,
   "metadata": {},
   "outputs": [],
   "source": [
    "import numpy as np\n",
    "import matplotlib.pyplot as plt\n",
    "from src.network import Network\n",
    "from src.data import Data\n",
    "from src.tools import shade\n",
    "import matplotlib"
   ]
  },
  {
   "cell_type": "code",
   "execution_count": 17,
   "metadata": {},
   "outputs": [],
   "source": [
    "X = np.transpose(np.genfromtxt(\"xi.csv\", delimiter=\",\"))\n",
    "Y = np.transpose(np.genfromtxt(\"tau.csv\", delimiter=\",\"))\n",
    "N = 50"
   ]
  },
  {
   "cell_type": "code",
   "execution_count": 18,
   "metadata": {},
   "outputs": [],
   "source": [
    "matplotlib.use(\"pgf\")\n",
    "matplotlib.rcParams.update({\n",
    "    \"pgf.texsystem\": \"pdflatex\",\n",
    "    'font.family': 'serif',\n",
    "    'text.usetex': True,\n",
    "    'pgf.rcfonts': False,\n",
    "})"
   ]
  },
  {
   "cell_type": "code",
   "execution_count": 29,
   "metadata": {},
   "outputs": [],
   "source": [
    "learning_rate_range = [0.001, 0.02, 0.05, 0.2]\n",
    "\n",
    "errors = []\n",
    "for learning_rate in learning_rate_range:\n",
    "    array = []\n",
    "    for _ in range(10):\n",
    "        network = Network(N, learning_rate=learning_rate)\n",
    "\n",
    "        train, test = Data.sample(X, Y)\n",
    "        error = network.train(train, test, t_max=100)\n",
    "        array.append(error)\n",
    "    array = np.mean(array, axis=0)\n",
    "    errors.append(array)"
   ]
  },
  {
   "cell_type": "code",
   "execution_count": 34,
   "metadata": {},
   "outputs": [],
   "source": [
    "plt.close()\n",
    "fig, plots = plt.subplots(1, len(errors), figsize=(10, 2.5), sharey=True)\n",
    "for (train_error, test_error), plot, learning_rate in zip(errors, plots, learning_rate_range):\n",
    "    x = np.arange(len(train_error))\n",
    "    plot.plot(x, train_error, label=\"$E_{train}$\")\n",
    "    plot.plot(x, test_error, label=\"$E_{test}$\", c=\"red\")\n",
    "    plot.set_title(f\"$\\\\eta={learning_rate}$\")\n",
    "    plot.set_xlabel(\"epoch\")\n",
    "    plot.legend()\n",
    "plt.tight_layout()\n",
    "plt.savefig('pictures/learning_rate_high.pgf')"
   ]
  },
  {
   "cell_type": "code",
   "execution_count": 21,
   "metadata": {},
   "outputs": [],
   "source": [
    "learning_rate_range = [0.001, 0.005, 0.02]\n",
    "\n",
    "errors = []\n",
    "for learning_rate in learning_rate_range:\n",
    "    array = []\n",
    "    for _ in range(10):\n",
    "        network = Network(N, learning_rate=learning_rate)\n",
    "\n",
    "        train, test = Data.sample(X, Y)\n",
    "        error = network.train(train, test, t_max=100)\n",
    "        array.append(error)\n",
    "    array = np.mean(array, axis=0)\n",
    "    errors.append(array)"
   ]
  },
  {
   "cell_type": "code",
   "execution_count": 22,
   "metadata": {},
   "outputs": [],
   "source": [
    "plt.close()\n",
    "fig, plots = plt.subplots(1, len(errors), figsize=(8, 2.5), sharey=True)\n",
    "for (train_error, test_error), plot, learning_rate in zip(errors, plots, learning_rate_range):\n",
    "    x = np.arange(len(train_error))\n",
    "    plot.plot(x, train_error, label=\"$E_{train}$\")\n",
    "    plot.plot(x, test_error, label=\"$E_{test}$\", c=\"red\")\n",
    "    plot.set_title(f\"$\\\\eta={learning_rate}$\")\n",
    "    plot.set_xlabel(\"epoch\")\n",
    "    plot.legend()\n",
    "plt.tight_layout()\n",
    "plt.savefig('pictures/learning_rate_low.pgf')"
   ]
  },
  {
   "cell_type": "code",
   "execution_count": 23,
   "metadata": {},
   "outputs": [
    {
     "name": "stdout",
     "output_type": "stream",
     "text": [
      "b = 1.0\n",
      "b = 2.0\n",
      "b = 4.0\n",
      "b = 10.0\n"
     ]
    }
   ],
   "source": [
    "b_range = [1.0, 4.0, 10.0]\n",
    "\n",
    "errors = []\n",
    "for b in b_range:\n",
    "    print(f\"{b = }\")\n",
    "    b_err = []\n",
    "    for _ in range(20):\n",
    "        # network = Network(N, learning_rate=lambda t: 3.0 / (t + 5.0))\n",
    "        network = Network(N, learning_rate=lambda t: 1.0 /\n",
    "                        (b + t), lru=\"timestep\")\n",
    "        # network = Network(N, learning_rate=lambda t: 0.1 * np.exp(-0.1 * t), lru=\"epoch\")\n",
    "\n",
    "        train, test = Data.sample(X, Y)\n",
    "        error = network.train(train, test, t_max=300)\n",
    "        b_err.append(error)\n",
    "    b_err = np.mean(b_err, axis=0)\n",
    "    errors.append(b_err)\n"
   ]
  },
  {
   "cell_type": "code",
   "execution_count": 24,
   "metadata": {},
   "outputs": [
    {
     "name": "stdout",
     "output_type": "stream",
     "text": [
      "301\n",
      "301\n",
      "301\n",
      "301\n",
      "301\n",
      "301\n",
      "301\n",
      "301\n"
     ]
    }
   ],
   "source": [
    "plt.close()\n",
    "fig, plots = plt.subplots(1, len(errors), figsize=(9, 2.7), sharey=True)\n",
    "for (train_error, test_error), plot, b in zip(errors, plots, b_range):\n",
    "    x = np.arange(len(train_error))\n",
    "    print(len(train_error))\n",
    "    print(len(test_error))\n",
    "    plot.plot(x, train_error, label=\"$E_{train}$\")\n",
    "    plot.plot(x, test_error, label=\"$E_{test}$\", c=\"red\")\n",
    "    plot.set_title(f\"$b={b}$\")\n",
    "    plot.set_xlabel(\"epoch\")\n",
    "    plot.legend()\n",
    "plt.tight_layout()\n",
    "plt.savefig('pictures/learning_rate_t.pgf')"
   ]
  }
 ],
 "metadata": {
  "interpreter": {
   "hash": "aee8b7b246df8f9039afb4144a1f6fd8d2ca17a180786b69acc140d282b71a49"
  },
  "kernelspec": {
   "display_name": "Python 3.9.7 64-bit",
   "language": "python",
   "name": "python3"
  },
  "language_info": {
   "codemirror_mode": {
    "name": "ipython",
    "version": 3
   },
   "file_extension": ".py",
   "mimetype": "text/x-python",
   "name": "python",
   "nbconvert_exporter": "python",
   "pygments_lexer": "ipython3",
   "version": "3.9.7"
  },
  "orig_nbformat": 4
 },
 "nbformat": 4,
 "nbformat_minor": 2
}
