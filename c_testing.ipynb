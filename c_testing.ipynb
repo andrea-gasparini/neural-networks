{
 "cells": [
  {
   "cell_type": "code",
   "execution_count": null,
   "metadata": {},
   "outputs": [],
   "source": [
    "from perceptron import Perceptron\n",
    "import numpy as np\n",
    "import matplotlib.pyplot as plt\n",
    "from data_generator import DataGenerator"
   ]
  },
  {
   "cell_type": "code",
   "execution_count": null,
   "metadata": {},
   "outputs": [],
   "source": [
    "N = 20\n",
    "nd = 200\n",
    "nmax = 100\n",
    "\n",
    "c_range = np.arange(0.1, 0.51, 0.1)\n",
    "alpha_range = np.arange(0.75, 3.1, 0.25)\n",
    "results = []\n",
    "\n",
    "for c in c_range:\n",
    "\t\n",
    "\tc = round(c, 1)\n",
    "\tprint(f\"Doing {c=}\")\n",
    "\n",
    "\tgenerator = DataGenerator(N)\n",
    "\tsuccess_runs = np.zeros(len(alpha_range))\n",
    "\n",
    "\tfor i, alpha in enumerate(alpha_range):\n",
    "\t\tP = int(alpha * N)\n",
    "\n",
    "\t\tsuccess_sum = 0\n",
    "\t\tfor _ in range(nd):\n",
    "\t\t\tperceptron = Perceptron(N, c)\n",
    "\t\t\tX, Y = generator.generate(P)\n",
    "\t\t\tif perceptron.train(X, Y, nmax):\n",
    "\t\t\t\tsuccess_sum += 1\n",
    "\n",
    "\t\tsuccess_runs[i] = float(success_sum) / float(nd)\n",
    "\t\n",
    "\tresults.append(success_runs)"
   ]
  },
  {
   "cell_type": "code",
   "execution_count": null,
   "metadata": {},
   "outputs": [],
   "source": [
    "for i, result in enumerate(results):\n",
    "    plt.plot(alpha_range, result, label=f\"{c_range[i]:.1}\")\n",
    "plt.legend()"
   ]
  },
  {
   "cell_type": "code",
   "execution_count": null,
   "metadata": {},
   "outputs": [],
   "source": [
    "fig, plots = plt.subplots(1, len(results), figsize=(20, 3))\n",
    "for i, plot in enumerate(plots):\n",
    "\tplot.plot(alpha_range, results[i])\n",
    "\tc = round(c_range[i], 1)\n",
    "\tplot.set_title(f\"{c = }\")"
   ]
  }
 ],
 "metadata": {
  "interpreter": {
   "hash": "aee8b7b246df8f9039afb4144a1f6fd8d2ca17a180786b69acc140d282b71a49"
  },
  "kernelspec": {
   "display_name": "Python 3.9.7 64-bit",
   "language": "python",
   "name": "python3"
  },
  "language_info": {
   "codemirror_mode": {
    "name": "ipython",
    "version": 3
   },
   "file_extension": ".py",
   "mimetype": "text/x-python",
   "name": "python",
   "nbconvert_exporter": "python",
   "pygments_lexer": "ipython3",
   "version": "3.10.0"
  },
  "orig_nbformat": 4
 },
 "nbformat": 4,
 "nbformat_minor": 2
}
