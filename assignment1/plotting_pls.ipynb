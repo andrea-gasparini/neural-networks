{
 "cells": [
  {
   "cell_type": "code",
   "execution_count": 1,
   "metadata": {},
   "outputs": [],
   "source": [
    "import numpy as np\n",
    "import matplotlib.pyplot as plt\n",
    "import math"
   ]
  },
  {
   "cell_type": "code",
   "execution_count": 2,
   "metadata": {},
   "outputs": [
    {
     "name": "stdout",
     "output_type": "stream",
     "text": [
      "N = 5\n",
      "N = 10\n",
      "N = 50\n",
      "N = 100\n"
     ]
    },
    {
     "data": {
      "image/png": "[encoded data removed]",
      "text/plain": [
       "<Figure size 432x288 with 1 Axes>"
      ]
     },
     "metadata": {
      "needs_background": "light"
     },
     "output_type": "display_data"
    }
   ],
   "source": [
    "for N in [5, 10, 50, 100]:\n",
    "    print(f\"{N = }\")\n",
    "    alpha = []\n",
    "    pls = []\n",
    "    for P in range(1, N * 4 + 1):\n",
    "        total = 2**P\n",
    "        if P <= N:\n",
    "            pls.append(1)\n",
    "        else:\n",
    "            count = 0\n",
    "            for i in range(N):\n",
    "                count += math.comb(P - 1, i)\n",
    "            pls.append(count * 2.0 / total)\n",
    "        alpha.append(P * 1.0 / N)\n",
    "    plt.step(alpha, pls, label=f\"{N}\")\n",
    "\n",
    "plt.xlabel(\"$\\\\alpha=\\\\frac{P}{N}$\")\n",
    "plt.ylabel(\"$P_{l.s.}$\")\n",
    "plt.xticks(list(range(0, 5, 1)))\n",
    "plt.legend(title=\"N\")\n",
    "plt.tight_layout()"
   ]
  }
 ],
 "metadata": {
  "interpreter": {
   "hash": "aee8b7b246df8f9039afb4144a1f6fd8d2ca17a180786b69acc140d282b71a49"
  },
  "kernelspec": {
   "display_name": "Python 3.9.7 64-bit",
   "language": "python",
   "name": "python3"
  },
  "language_info": {
   "codemirror_mode": {
    "name": "ipython",
    "version": 3
   },
   "file_extension": ".py",
   "mimetype": "text/x-python",
   "name": "python",
   "nbconvert_exporter": "python",
   "pygments_lexer": "ipython3",
   "version": "3.9.7"
  },
  "orig_nbformat": 4
 },
 "nbformat": 4,
 "nbformat_minor": 2
}
