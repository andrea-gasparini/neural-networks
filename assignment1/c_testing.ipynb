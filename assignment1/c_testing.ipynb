{
 "cells": [
  {
   "cell_type": "code",
   "execution_count": 1,
   "metadata": {},
   "outputs": [],
   "source": [
    "import numpy as np\n",
    "import matplotlib.pyplot as plt\n",
    "import matplotlib\n",
    "from src.data_generator import NormalGenerator\n",
    "from src.training import Trainer, TrainParameters"
   ]
  },
  {
   "cell_type": "code",
   "execution_count": 5,
   "metadata": {},
   "outputs": [
    {
     "name": "stdout",
     "output_type": "stream",
     "text": [
      "Doing c = 0.0\n",
      "Doing c = 1.0\n",
      "Doing c = 2.0\n",
      "Doing c = 3.0\n",
      "Doing c = 4.0\n",
      "Doing c = 5.0\n"
     ]
    }
   ],
   "source": [
    "c_range = np.arange(0.0, 5.01, 1.0)\n",
    "alpha_range = np.arange(0.75, 3.1, 0.25)\n",
    "\n",
    "N = 20\n",
    "parameters = TrainParameters(\n",
    "\tnd=200,\n",
    "\tnmax=100,\n",
    "\tN=N,\n",
    "\tgenerator=NormalGenerator(N)\n",
    ")\n",
    "\n",
    "results = []\n",
    "\n",
    "for c in c_range:\n",
    "\tprint(f\"Doing {c = }\")\n",
    "\tparameters.c = c\n",
    "\n",
    "\tsuccess_rates = Trainer.train_range(parameters, alpha_range, 4)\n",
    "\t\n",
    "\tresults.append(success_rates)"
   ]
  },
  {
   "cell_type": "code",
   "execution_count": 6,
   "metadata": {},
   "outputs": [],
   "source": [
    "matplotlib.use(\"pgf\")\n",
    "matplotlib.rcParams.update({\n",
    "    \"pgf.texsystem\": \"pdflatex\",\n",
    "    'font.family': 'serif',\n",
    "    'text.usetex': True,\n",
    "    'pgf.rcfonts': False,\n",
    "})"
   ]
  },
  {
   "cell_type": "code",
   "execution_count": 7,
   "metadata": {},
   "outputs": [],
   "source": [
    "for i, result in enumerate(results):\n",
    "\tplt.plot(alpha_range, result, label=f\"c = {c_range[i]:.1f}\")\n",
    "\n",
    "plt.xlabel(\"$\\\\alpha$\")\n",
    "plt.ylabel(\"$success rate$\")\n",
    "plt.legend()\n",
    "\n",
    "# TODO: Use the factory pattern with component X\n",
    "\n",
    "plt.savefig('pictures/c_0_5.pgf')"
   ]
  },
  {
   "cell_type": "code",
   "execution_count": 8,
   "metadata": {},
   "outputs": [],
   "source": [
    "fig, plots = plt.subplots(1, len(results), figsize=(20, 3))\n",
    "for i, plot in enumerate(plots):\n",
    "\tplot.plot(alpha_range, results[i])\n",
    "\tplot.set_title(f\"c = {c_range[i]:.1f}\")"
   ]
  }
 ],
 "metadata": {
  "interpreter": {
   "hash": "aee8b7b246df8f9039afb4144a1f6fd8d2ca17a180786b69acc140d282b71a49"
  },
  "kernelspec": {
   "display_name": "Python 3.9.7 64-bit",
   "language": "python",
   "name": "python3"
  },
  "language_info": {
   "codemirror_mode": {
    "name": "ipython",
    "version": 3
   },
   "file_extension": ".py",
   "mimetype": "text/x-python",
   "name": "python",
   "nbconvert_exporter": "python",
   "pygments_lexer": "ipython3",
   "version": "3.9.7"
  },
  "orig_nbformat": 4
 },
 "nbformat": 4,
 "nbformat_minor": 2
}
