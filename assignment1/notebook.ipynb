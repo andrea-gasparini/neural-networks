{
 "cells": [
  {
   "cell_type": "code",
   "execution_count": 5,
   "metadata": {},
   "outputs": [],
   "source": [
    "from src.perceptron import Perceptron\n",
    "from src.data_generator import NormalGenerator\n",
    "from typing import List, Tuple\n",
    "\n",
    "import numpy as np\n",
    "import matplotlib.pyplot as plt\n",
    "import matplotlib as mpl\n",
    "import math"
   ]
  },
  {
   "cell_type": "code",
   "execution_count": 2,
   "metadata": {},
   "outputs": [],
   "source": [
    "def train_loop(N_range: np.ndarray, alpha_range: np.ndarray,\n",
    "\t\t\t   nd: int = 200, nmax: int = 100) -> List[float]:\n",
    "\n",
    "\tresults = list()\n",
    "\n",
    "\tfor N in N_range:\n",
    "\t\t\n",
    "\t\tprint(f\"Doing {N = }\")\n",
    "\t\t\n",
    "\t\tgenerator = NormalGenerator(N)\n",
    "\t\tsuccess_runs = np.zeros(len(alpha_range))\n",
    "\n",
    "\t\tfor i, alpha in enumerate(alpha_range):\n",
    "\t\t\tP = int(alpha * N)\n",
    "\n",
    "\t\t\tsuccess_sum = 0\n",
    "\t\t\tfor _ in range(nd):\n",
    "\t\t\t\tperceptron = Perceptron(N)\n",
    "\t\t\t\tX, Y = generator.generate(P)\n",
    "\t\t\t\tif perceptron.train(X, Y, nmax):\n",
    "\t\t\t\t\tsuccess_sum += 1\n",
    "\n",
    "\t\t\tsuccess_runs[i] = float(success_sum) / float(nd)\n",
    "\t\t\n",
    "\t\tresults.append(success_runs)\n",
    "\n",
    "\treturn results"
   ]
  },
  {
   "cell_type": "code",
   "execution_count": 4,
   "metadata": {},
   "outputs": [
    {
     "name": "stdout",
     "output_type": "stream",
     "text": [
      "Doing N = 20\n",
      "Doing N = 50\n"
     ]
    }
   ],
   "source": [
    "alpha_range1 = np.arange(0.75, 3.01, 0.25)\n",
    "N_range1 = np.array([20, 50])\n",
    "\n",
    "results1 = train_loop(N_range1, alpha_range1)"
   ]
  },
  {
   "cell_type": "code",
   "execution_count": 39,
   "metadata": {},
   "outputs": [
    {
     "name": "stdout",
     "output_type": "stream",
     "text": [
      "Doing N = 5\n"
     ]
    }
   ],
   "source": [
    "alpha_range2 = np.arange(1.0, 2.51, 0.10)\n",
    "N_range2 = np.array([5, 20, 50, 100])\n",
    "\n",
    "results2 = train_loop(N_range2, alpha_range2, nd=500)"
   ]
  },
  {
   "cell_type": "code",
   "execution_count": 10,
   "metadata": {},
   "outputs": [],
   "source": [
    "def plot_results(alpha_range: np.ndarray, N_range: np.ndarray,\n",
    "                 results: List[float]) -> Tuple[mpl.figure.Figure, mpl.axes.Axes]:\n",
    "\n",
    "    fig, plots = plt.subplots(1, len(results), figsize=(len(results) * 4, 3))\n",
    "    for i, plot in enumerate(plots):\n",
    "        plot.plot(alpha_range, results[i])\n",
    "        plot.set_title(f\"N = {N_range[i]}\")\n",
    "\n",
    "    return fig, plots"
   ]
  },
  {
   "cell_type": "code",
   "execution_count": 35,
   "metadata": {},
   "outputs": [],
   "source": [
    "mpl.use(\"pgf\")\n",
    "mpl.rcParams.update({\n",
    "    \"pgf.texsystem\": \"pdflatex\",\n",
    "    'font.family': 'serif',\n",
    "    'text.usetex': True,\n",
    "    'pgf.rcfonts': False,\n",
    "})"
   ]
  },
  {
   "cell_type": "code",
   "execution_count": 38,
   "metadata": {},
   "outputs": [
    {
     "ename": "NameError",
     "evalue": "name 'N_range2' is not defined",
     "output_type": "error",
     "traceback": [
      "\u001b[0;31m---------------------------------------------------------------------------\u001b[0m",
      "\u001b[0;31mNameError\u001b[0m                                 Traceback (most recent call last)",
      "\u001b[0;32m/var/folders/7q/bst9c2fs7bx9xk_rcvlsshgm0000gn/T/ipykernel_18941/1135304952.py\u001b[0m in \u001b[0;36m<module>\u001b[0;34m\u001b[0m\n\u001b[1;32m      2\u001b[0m \u001b[0;34m\u001b[0m\u001b[0m\n\u001b[1;32m      3\u001b[0m \u001b[0;31m# fig, plots = plot_results(alpha_range1, N_range1, results1)\u001b[0m\u001b[0;34m\u001b[0m\u001b[0;34m\u001b[0m\u001b[0m\n\u001b[0;32m----> 4\u001b[0;31m \u001b[0;32mfor\u001b[0m \u001b[0mi\u001b[0m \u001b[0;32min\u001b[0m \u001b[0mrange\u001b[0m\u001b[0;34m(\u001b[0m\u001b[0mlen\u001b[0m\u001b[0;34m(\u001b[0m\u001b[0mN_range2\u001b[0m\u001b[0;34m)\u001b[0m\u001b[0;34m)\u001b[0m\u001b[0;34m:\u001b[0m\u001b[0;34m\u001b[0m\u001b[0;34m\u001b[0m\u001b[0m\n\u001b[0m\u001b[1;32m      5\u001b[0m     \u001b[0mplt\u001b[0m\u001b[0;34m.\u001b[0m\u001b[0mplot\u001b[0m\u001b[0;34m(\u001b[0m\u001b[0malpha_range2\u001b[0m\u001b[0;34m,\u001b[0m \u001b[0mresults2\u001b[0m\u001b[0;34m[\u001b[0m\u001b[0mi\u001b[0m\u001b[0;34m]\u001b[0m\u001b[0;34m,\u001b[0m \u001b[0mlabel\u001b[0m\u001b[0;34m=\u001b[0m\u001b[0;34mf\"N = {N_range2[i]}\"\u001b[0m\u001b[0;34m)\u001b[0m\u001b[0;34m\u001b[0m\u001b[0;34m\u001b[0m\u001b[0m\n\u001b[1;32m      6\u001b[0m \u001b[0;34m\u001b[0m\u001b[0m\n",
      "\u001b[0;31mNameError\u001b[0m: name 'N_range2' is not defined"
     ]
    }
   ],
   "source": [
    "plt.close()\n",
    "\n",
    "# fig, plots = plot_results(alpha_range1, N_range1, results1)\n",
    "for i in range(len(N_range2)):\n",
    "    plt.plot(alpha_range2, results2[i], label=f\"N = {N_range2[i]}\")\n",
    "\n",
    "plt.legend()\n",
    "plt.xlabel(\"$\\\\alpha$\")\n",
    "plt.ylabel(\"$Q_{l.s.}$\")\n",
    "\n",
    "plt.savefig(\"pictures/N_testing_5_100.pgf\")"
   ]
  },
  {
   "cell_type": "code",
   "execution_count": 37,
   "metadata": {},
   "outputs": [
    {
     "name": "stdout",
     "output_type": "stream",
     "text": [
      "N = 20\n",
      "N = 50\n"
     ]
    },
    {
     "data": {
      "image/png": "[encoded data removed]",
      "text/plain": [
       "<Figure size 432x288 with 1 Axes>"
      ]
     },
     "metadata": {
      "needs_background": "light"
     },
     "output_type": "display_data"
    }
   ],
   "source": [
    "alphas = []\n",
    "plses = []\n",
    "\n",
    "for N in N_range1:\n",
    "    print(f\"{N = }\")\n",
    "    alpha = []\n",
    "    pls = []\n",
    "    for P in range(1, N * 4 + 1):\n",
    "        total = 2**P\n",
    "        if P <= N:\n",
    "            pls.append(1)\n",
    "        else:\n",
    "            count = 0\n",
    "            for i in range(N):\n",
    "                count += math.comb(P - 1, i)\n",
    "            pls.append(count * 2.0 / total)\n",
    "        alpha.append(P * 1.0 / N)\n",
    "    alphas.append(alpha)\n",
    "    plses.append(pls)\n",
    "    # plt.step(alpha, pls, label=f\"{N}\")\n",
    "\n",
    "# plt.xlabel(\"$\\\\alpha=\\\\frac{P}{N}$\")\n",
    "# plt.ylabel(\"$P_{l.s.}$\")\n",
    "# plt.xticks(list(range(0, 5, 1)))\n",
    "# plt.legend(title=\"N\")\n",
    "# plt.tight_layout()\n",
    "\n",
    "plt.close()\n",
    "\n",
    "colors = ['#3c72c9', 'red']\n",
    "# fig, plots = plot_results(alpha_range1, N_range1, results1)\n",
    "for i, N in enumerate(N_range1):\n",
    "    plt.plot(alpha_range1, results1[i], '--', c=colors[i])\n",
    "    alpha = np.array(alphas[i])\n",
    "    pls = np.array(plses[i])\n",
    "    idx = (alpha >= alpha_range1[0]) & (alpha <= alpha_range1[-1])\n",
    "    plt.step(alpha[idx], pls[idx], label=f\"N = {N_range1[i]}\", c=colors[i])\n",
    "\n",
    "plt.plot(2.0, 0, c='k', label=\"$P_{l.s.}$\")\n",
    "plt.plot(2.0, 0, '--', c='k', label=\"$Q_{l.s.}$\")\n",
    "\n",
    "plt.legend()\n",
    "\n",
    "plt.xlabel(\"$\\\\alpha$\")\n",
    "# plt.ylabel(\"$Q_{l.s.}$\")\n",
    "\n",
    "plt.savefig(\"pictures/N_testing_20_50.pgf\")"
   ]
  },
  {
   "cell_type": "code",
   "execution_count": null,
   "metadata": {},
   "outputs": [
    {
     "data": {
      "image/png": "[encoded data removed]",
      "text/plain": [
       "<Figure size 1440x216 with 5 Axes>"
      ]
     },
     "metadata": {
      "needs_background": "light"
     },
     "output_type": "display_data"
    }
   ],
   "source": [
    "plot_results(alpha_range2, N_range2, results2)"
   ]
  }
 ],
 "metadata": {
  "interpreter": {
   "hash": "aee8b7b246df8f9039afb4144a1f6fd8d2ca17a180786b69acc140d282b71a49"
  },
  "kernelspec": {
   "display_name": "Python 3.9.7 64-bit",
   "language": "python",
   "name": "python3"
  },
  "language_info": {
   "codemirror_mode": {
    "name": "ipython",
    "version": 3
   },
   "file_extension": ".py",
   "mimetype": "text/x-python",
   "name": "python",
   "nbconvert_exporter": "python",
   "pygments_lexer": "ipython3",
   "version": "3.9.7"
  },
  "orig_nbformat": 4
 },
 "nbformat": 4,
 "nbformat_minor": 2
}
