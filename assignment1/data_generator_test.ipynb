{
 "cells": [
  {
   "cell_type": "code",
   "execution_count": 1,
   "metadata": {},
   "outputs": [],
   "source": [
    "import matplotlib.pyplot as plt\n",
    "from src.data_generator import NormalGenerator, UniformGenerator\n",
    "from src.perceptron import Perceptron\n",
    "import numpy as np\n",
    "import matplotlib"
   ]
  },
  {
   "cell_type": "code",
   "execution_count": 5,
   "metadata": {},
   "outputs": [],
   "source": [
    "matplotlib.use(\"pgf\")\n",
    "matplotlib.rcParams.update({\n",
    "    \"pgf.texsystem\": \"pdflatex\",\n",
    "    'font.family': 'serif',\n",
    "    'text.usetex': True,\n",
    "    'pgf.rcfonts': False,\n",
    "})"
   ]
  },
  {
   "cell_type": "code",
   "execution_count": 10,
   "metadata": {},
   "outputs": [],
   "source": [
    "ax, fig = plt.subplots(figsize=(4, 4))\n",
    "\n",
    "generator = NormalGenerator(2)\n",
    "X, Y = generator.generate(500, 0)\n",
    "\n",
    "neg_idx = Y == -1\n",
    "pos_idx = ~neg_idx\n",
    "\n",
    "fig.scatter(X[neg_idx, 0], X[neg_idx, 1], label=\"-1\", s=2)\n",
    "fig.scatter(X[pos_idx, 0], X[pos_idx, 1], color=\"red\", label=\"+1\", s=2)\n",
    "fig.set_xticks(range(-4, 5, 2))\n",
    "fig.set_yticks(range(-4, 5, 2))\n",
    "fig.set_xlabel(\"Dimension 1\")\n",
    "fig.set_ylabel(\"Dimension 2\")\n",
    "fig.legend(title=\"Label\")\n",
    "\n",
    "plt.savefig(\"./pictures/data-generation-1.pgf\")"
   ]
  },
  {
   "cell_type": "code",
   "execution_count": 11,
   "metadata": {},
   "outputs": [],
   "source": [
    "ax, fig = plt.subplots(figsize=(4, 4))\n",
    "\n",
    "generator = NormalGenerator(2)\n",
    "values, _ = generator.generate(500, 0)\n",
    "values2, _ = generator.generate(500, 2)\n",
    "\n",
    "fig.scatter(values[:, 0], values[:, 1], label=\"mean = 0\", s=2)\n",
    "fig.scatter(values2[:, 0], values2[:, 1], color=\"red\", label=\"mean = 2\", s=2)\n",
    "fig.set_xticks(range(-4, 7, 2))\n",
    "fig.set_yticks(range(-4, 7, 2))\n",
    "fig.set_xlabel(\"Dimension 1\")\n",
    "fig.set_ylabel(\"Dimension 2\")\n",
    "fig.legend()\n",
    "\n",
    "plt.savefig(\"pictures/data-generation-2.pgf\")\n"
   ]
  },
  {
   "cell_type": "code",
   "execution_count": 7,
   "metadata": {},
   "outputs": [
    {
     "name": "stdout",
     "output_type": "stream",
     "text": [
      "Doing generator NormalGenerator\n",
      "Doing generator UniformGenerator\n"
     ]
    },
    {
     "data": {
      "text/plain": [
       "<matplotlib.legend.Legend at 0x7fefb7415fd0>"
      ]
     },
     "execution_count": 7,
     "metadata": {},
     "output_type": "execute_result"
    },
    {
     "data": {
      "image/png": "[encoded data removed]",
      "text/plain": [
       "<Figure size 432x288 with 1 Axes>"
      ]
     },
     "metadata": {
      "needs_background": "light"
     },
     "output_type": "display_data"
    }
   ],
   "source": [
    "N = 20\n",
    "nd = 200\n",
    "nmax = 100\n",
    "alpha = 0.75\n",
    "P = int(alpha * N)\n",
    "alpha_range = np.arange(0.75, 3.01, 0.25)\n",
    "\n",
    "normal = NormalGenerator(N)\n",
    "uniform = UniformGenerator(N)\n",
    "\n",
    "plt.close()\n",
    "\n",
    "for generator in normal, uniform:\n",
    "    print(f\"Doing generator {generator.__class__.__name__}\")\n",
    "    success_rate = []\n",
    "    for alpha in alpha_range:\n",
    "        P = int(alpha * N)\n",
    "        success = 0.0\n",
    "        for _ in range(nd):\n",
    "            perceptron = Perceptron(N)\n",
    "            X, Y = generator.generate(P)\n",
    "            if perceptron.train(X, Y, nmax):\n",
    "                success += 1.0\n",
    "        success_rate.append(success / nd)\n",
    "    \n",
    "    plt.plot(alpha_range, success_rate, label=generator.__class__.__name__)\n",
    "\n",
    "plt.legend()"
   ]
  },
  {
   "cell_type": "code",
   "execution_count": 8,
   "metadata": {},
   "outputs": [
    {
     "name": "stdout",
     "output_type": "stream",
     "text": [
      "Doing nmax_range UniformGenerator\n",
      "Doing nmax_range UniformGenerator\n"
     ]
    },
    {
     "data": {
      "text/plain": [
       "<matplotlib.legend.Legend at 0x7fefb7415df0>"
      ]
     },
     "execution_count": 8,
     "metadata": {},
     "output_type": "execute_result"
    },
    {
     "data": {
      "image/png": "[encoded data removed]",
      "text/plain": [
       "<Figure size 432x288 with 1 Axes>"
      ]
     },
     "metadata": {
      "needs_background": "light"
     },
     "output_type": "display_data"
    }
   ],
   "source": [
    "N = 20\n",
    "nd = 200\n",
    "alpha = 0.75\n",
    "P = int(alpha * N)\n",
    "alpha_range = np.arange(0.75, 3.01, 0.25)\n",
    "\n",
    "normal = NormalGenerator(N)\n",
    "uniform = UniformGenerator(N)\n",
    "\n",
    "plt.close()\n",
    "\n",
    "nmax_range = [100, 500]\n",
    "\n",
    "for nmax in nmax_range:\n",
    "    print(f\"Doing nmax_range {generator.__class__.__name__}\")\n",
    "    success_rate = []\n",
    "    for alpha in alpha_range:\n",
    "        P = int(alpha * N)\n",
    "        success = 0.0\n",
    "        for _ in range(nd):\n",
    "            perceptron = Perceptron(N)\n",
    "            X, Y = generator.generate(P)\n",
    "            if perceptron.train(X, Y, nmax):\n",
    "                success += 1.0\n",
    "        success_rate.append(success / nd)\n",
    "    \n",
    "    plt.plot(alpha_range, success_rate, label=f\"{nmax =}\")\n",
    "\n",
    "plt.legend()"
   ]
  }
 ],
 "metadata": {
  "interpreter": {
   "hash": "aee8b7b246df8f9039afb4144a1f6fd8d2ca17a180786b69acc140d282b71a49"
  },
  "kernelspec": {
   "display_name": "Python 3.9.7 64-bit",
   "language": "python",
   "name": "python3"
  },
  "language_info": {
   "codemirror_mode": {
    "name": "ipython",
    "version": 3
   },
   "file_extension": ".py",
   "mimetype": "text/x-python",
   "name": "python",
   "nbconvert_exporter": "python",
   "pygments_lexer": "ipython3",
   "version": "3.9.7"
  },
  "orig_nbformat": 4
 },
 "nbformat": 4,
 "nbformat_minor": 2
}
