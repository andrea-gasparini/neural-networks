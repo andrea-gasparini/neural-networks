{
 "cells": [
  {
   "cell_type": "code",
   "execution_count": 1,
   "metadata": {},
   "outputs": [],
   "source": [
    "from src.perceptron import Perceptron\n",
    "import numpy as np\n",
    "import matplotlib.pyplot as plt\n",
    "from src.data_generator import NormalGenerator"
   ]
  },
  {
   "cell_type": "code",
   "execution_count": 2,
   "metadata": {},
   "outputs": [],
   "source": [
    "N = 20\n",
    "nd = 10000\n",
    "nmax = 100\n",
    "alpha = 2.0\n",
    "P = int(alpha * N)\n",
    "\n",
    "generator = NormalGenerator(N)\n",
    "embedding_strengths = np.zeros(P)\n",
    "\n",
    "for _ in range(nd):\n",
    "    perceptron = Perceptron(N)\n",
    "    X, Y = generator.generate(P)\n",
    "    perceptron.train(X, Y, nmax)\n",
    "    embedding_strengths += perceptron.strengths"
   ]
  },
  {
   "cell_type": "code",
   "execution_count": 3,
   "metadata": {},
   "outputs": [
    {
     "data": {
      "text/plain": [
       "Text(0, 0.5, 'embedding strength')"
      ]
     },
     "execution_count": 3,
     "metadata": {},
     "output_type": "execute_result"
    },
    {
     "data": {
      "image/png": "[encoded data removed]",
      "text/plain": [
       "<Figure size 432x288 with 1 Axes>"
      ]
     },
     "metadata": {
      "needs_background": "light"
     },
     "output_type": "display_data"
    }
   ],
   "source": [
    "plt.close()\n",
    "\n",
    "plt.bar(np.arange(P) + 1, embedding_strengths)\n",
    "plt.xlabel(\"$\\\\mu$\")\n",
    "plt.ylabel(\"embedding strength\")"
   ]
  }
 ],
 "metadata": {
  "interpreter": {
   "hash": "aee8b7b246df8f9039afb4144a1f6fd8d2ca17a180786b69acc140d282b71a49"
  },
  "kernelspec": {
   "display_name": "Python 3.9.7 64-bit",
   "language": "python",
   "name": "python3"
  },
  "language_info": {
   "codemirror_mode": {
    "name": "ipython",
    "version": 3
   },
   "file_extension": ".py",
   "mimetype": "text/x-python",
   "name": "python",
   "nbconvert_exporter": "python",
   "pygments_lexer": "ipython3",
   "version": "3.9.7"
  },
  "orig_nbformat": 4
 },
 "nbformat": 4,
 "nbformat_minor": 2
}
